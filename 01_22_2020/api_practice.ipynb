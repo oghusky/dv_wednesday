{
 "cells": [
  {
   "cell_type": "code",
   "execution_count": 21,
   "metadata": {},
   "outputs": [],
   "source": [
    "import requests\n",
    "#requests is a library used pythong to get data from apis\n",
    "#get a request method(basically a function)\n",
    "import json\n",
    "from pprint import pprint\n",
    "import pandas as pd\n",
    "import numpy as np\n",
    "import matplotlib.pyplot as plt\n",
    "import csv"
   ]
  },
  {
   "cell_type": "code",
   "execution_count": 2,
   "metadata": {},
   "outputs": [
    {
     "name": "stdout",
     "output_type": "stream",
     "text": [
      "{'type': 'success',\n",
      " 'value': {'categories': [],\n",
      "           'id': 157,\n",
      "           'joke': 'A study showed the leading causes of death in the United '\n",
      "                   'States are: 1. Heart disease, 2. Chuck Norris, 3. Cancer'}}\n"
     ]
    }
   ],
   "source": [
    "url=\"http://api.icndb.com/jokes/random\"\n",
    "one_joke=requests.get(url).json()\n",
    "pprint(one_joke)"
   ]
  },
  {
   "cell_type": "code",
   "execution_count": 3,
   "metadata": {
    "scrolled": false
   },
   "outputs": [
    {
     "name": "stdout",
     "output_type": "stream",
     "text": [
      "{'categories': [],\n",
      " 'id': 157,\n",
      " 'joke': 'A study showed the leading causes of death in the United States are: '\n",
      "         '1. Heart disease, 2. Chuck Norris, 3. Cancer'}\n"
     ]
    }
   ],
   "source": [
    "pprint(one_joke[\"value\"])"
   ]
  },
  {
   "cell_type": "code",
   "execution_count": 5,
   "metadata": {
    "scrolled": true
   },
   "outputs": [
    {
     "name": "stdout",
     "output_type": "stream",
     "text": [
      "{'type': 'success',\n",
      " 'value': [{'categories': [],\n",
      "            'id': 243,\n",
      "            'joke': \"Contrary to popular belief, the Titanic didn't hit an \"\n",
      "                    'iceberg. The ship was off course and ran into Chuck '\n",
      "                    'Norris while he was doing the backstroke across the '\n",
      "                    'Atlantic.'},\n",
      "           {'categories': [],\n",
      "            'id': 204,\n",
      "            'joke': 'Nagasaki never had a bomb dropped on it. Chuck Norris '\n",
      "                    'jumped out of a plane and punched the ground'},\n",
      "           {'categories': [],\n",
      "            'id': 442,\n",
      "            'joke': 'Everything King Midas touches turnes to gold. Everything '\n",
      "                    'Chuck Norris touches turns up dead.'}]}\n"
     ]
    }
   ],
   "source": [
    "murl = \"http://api.icndb.com/jokes/random/3\"\n",
    "multi_joke = requests.get(murl).json()\n",
    "pprint(multi_joke)"
   ]
  },
  {
   "cell_type": "code",
   "execution_count": 6,
   "metadata": {
    "scrolled": true
   },
   "outputs": [
    {
     "name": "stdout",
     "output_type": "stream",
     "text": [
      "[{'categories': [],\n",
      "  'id': 243,\n",
      "  'joke': \"Contrary to popular belief, the Titanic didn't hit an iceberg. The \"\n",
      "          'ship was off course and ran into Chuck Norris while he was doing '\n",
      "          'the backstroke across the Atlantic.'},\n",
      " {'categories': [],\n",
      "  'id': 204,\n",
      "  'joke': 'Nagasaki never had a bomb dropped on it. Chuck Norris jumped out of '\n",
      "          'a plane and punched the ground'},\n",
      " {'categories': [],\n",
      "  'id': 442,\n",
      "  'joke': 'Everything King Midas touches turnes to gold. Everything Chuck '\n",
      "          'Norris touches turns up dead.'}]\n"
     ]
    }
   ],
   "source": [
    "pprint(multi_joke[\"value\"])"
   ]
  },
  {
   "cell_type": "code",
   "execution_count": 22,
   "metadata": {
    "scrolled": true
   },
   "outputs": [
    {
     "name": "stdout",
     "output_type": "stream",
     "text": [
      "Joke ID: 243\n",
      "Joke Line: Contrary to popular belief, the Titanic didn't hit an iceberg. The ship was off course and ran into Chuck Norris while he was doing the backstroke across the Atlantic.\n",
      "Joke Line Length(By Character): 167\n",
      "=================================\n",
      "Joke ID: 204\n",
      "Joke Line: Nagasaki never had a bomb dropped on it. Chuck Norris jumped out of a plane and punched the ground\n",
      "Joke Line Length(By Character): 98\n",
      "=================================\n",
      "Joke ID: 442\n",
      "Joke Line: Everything King Midas touches turnes to gold. Everything Chuck Norris touches turns up dead.\n",
      "Joke Line Length(By Character): 92\n",
      "=================================\n"
     ]
    }
   ],
   "source": [
    "list = multi_joke[\"value\"]\n",
    "#for each element in this list,\n",
    "for element in list:\n",
    "    #do these things with them\n",
    "    print(f'Joke ID: {element[\"id\"]}')\n",
    "    print(f'Joke Line: {element[\"joke\"]}')\n",
    "    print(f'Joke Line Length(By Character): {len(element[\"joke\"])}')\n",
    "    print('=================================')"
   ]
  },
  {
   "cell_type": "code",
   "execution_count": 16,
   "metadata": {
    "scrolled": true
   },
   "outputs": [
    {
     "name": "stdout",
     "output_type": "stream",
     "text": [
      "[[243, \"Contrary to popular belief, the Titanic didn't hit an iceberg. The ship was off course and ran into Chuck Norris while he was doing the backstroke across the Atlantic.\", 167], [204, 'Nagasaki never had a bomb dropped on it. Chuck Norris jumped out of a plane and punched the ground', 98], [442, 'Everything King Midas touches turnes to gold. Everything Chuck Norris touches turns up dead.', 92]]\n"
     ]
    }
   ],
   "source": [
    "joke_list=[]\n",
    "for joke in multi_joke[\"value\"]:\n",
    "    joke_list.append([joke[\"id\"], joke[\"joke\"], len(joke[\"joke\"])])\n",
    "print(joke_list)"
   ]
  },
  {
   "cell_type": "code",
   "execution_count": 19,
   "metadata": {
    "scrolled": true
   },
   "outputs": [
    {
     "data": {
      "text/html": [
       "<div>\n",
       "<style scoped>\n",
       "    .dataframe tbody tr th:only-of-type {\n",
       "        vertical-align: middle;\n",
       "    }\n",
       "\n",
       "    .dataframe tbody tr th {\n",
       "        vertical-align: top;\n",
       "    }\n",
       "\n",
       "    .dataframe thead th {\n",
       "        text-align: right;\n",
       "    }\n",
       "</style>\n",
       "<table border=\"1\" class=\"dataframe\">\n",
       "  <thead>\n",
       "    <tr style=\"text-align: right;\">\n",
       "      <th></th>\n",
       "      <th>0</th>\n",
       "      <th>1</th>\n",
       "      <th>2</th>\n",
       "    </tr>\n",
       "  </thead>\n",
       "  <tbody>\n",
       "    <tr>\n",
       "      <td>2</td>\n",
       "      <td>442</td>\n",
       "      <td>Everything King Midas touches turnes to gold. ...</td>\n",
       "      <td>92</td>\n",
       "    </tr>\n",
       "    <tr>\n",
       "      <td>1</td>\n",
       "      <td>204</td>\n",
       "      <td>Nagasaki never had a bomb dropped on it. Chuck...</td>\n",
       "      <td>98</td>\n",
       "    </tr>\n",
       "    <tr>\n",
       "      <td>0</td>\n",
       "      <td>243</td>\n",
       "      <td>Contrary to popular belief, the Titanic didn't...</td>\n",
       "      <td>167</td>\n",
       "    </tr>\n",
       "  </tbody>\n",
       "</table>\n",
       "</div>"
      ],
      "text/plain": [
       "     0                                                  1    2\n",
       "2  442  Everything King Midas touches turnes to gold. ...   92\n",
       "1  204  Nagasaki never had a bomb dropped on it. Chuck...   98\n",
       "0  243  Contrary to popular belief, the Titanic didn't...  167"
      ]
     },
     "execution_count": 19,
     "metadata": {},
     "output_type": "execute_result"
    }
   ],
   "source": [
    "chuck_data = pd.DataFrame(joke_list)\n",
    "chuck_data.sample(3)"
   ]
  },
  {
   "cell_type": "code",
   "execution_count": 20,
   "metadata": {},
   "outputs": [],
   "source": [
    "chuck_data.columns=[\"ID\", \"JOKE\", \"JOKE LENGTH\"]\n",
    "chuck_data.dropna(axis=0, how=\"any\", inplace=True)\n",
    "chuck_data.to_csv(\"./Resources/chucknorris.csv\", index=False, header=True)"
   ]
  },
  {
   "cell_type": "code",
   "execution_count": 25,
   "metadata": {},
   "outputs": [],
   "source": [
    "chuck_csv = \"Resources/chucknorris.csv\""
   ]
  },
  {
   "cell_type": "code",
   "execution_count": 24,
   "metadata": {},
   "outputs": [
    {
     "data": {
      "text/html": [
       "<div>\n",
       "<style scoped>\n",
       "    .dataframe tbody tr th:only-of-type {\n",
       "        vertical-align: middle;\n",
       "    }\n",
       "\n",
       "    .dataframe tbody tr th {\n",
       "        vertical-align: top;\n",
       "    }\n",
       "\n",
       "    .dataframe thead th {\n",
       "        text-align: right;\n",
       "    }\n",
       "</style>\n",
       "<table border=\"1\" class=\"dataframe\">\n",
       "  <thead>\n",
       "    <tr style=\"text-align: right;\">\n",
       "      <th></th>\n",
       "      <th>ID</th>\n",
       "      <th>JOKE</th>\n",
       "      <th>JOKE LENGTH</th>\n",
       "    </tr>\n",
       "  </thead>\n",
       "  <tbody>\n",
       "    <tr>\n",
       "      <td>0</td>\n",
       "      <td>243</td>\n",
       "      <td>Contrary to popular belief, the Titanic didn't...</td>\n",
       "      <td>167</td>\n",
       "    </tr>\n",
       "    <tr>\n",
       "      <td>1</td>\n",
       "      <td>204</td>\n",
       "      <td>Nagasaki never had a bomb dropped on it. Chuck...</td>\n",
       "      <td>98</td>\n",
       "    </tr>\n",
       "    <tr>\n",
       "      <td>2</td>\n",
       "      <td>442</td>\n",
       "      <td>Everything King Midas touches turnes to gold. ...</td>\n",
       "      <td>92</td>\n",
       "    </tr>\n",
       "  </tbody>\n",
       "</table>\n",
       "</div>"
      ],
      "text/plain": [
       "    ID                                               JOKE  JOKE LENGTH\n",
       "0  243  Contrary to popular belief, the Titanic didn't...          167\n",
       "1  204  Nagasaki never had a bomb dropped on it. Chuck...           98\n",
       "2  442  Everything King Midas touches turnes to gold. ...           92"
      ]
     },
     "execution_count": 24,
     "metadata": {},
     "output_type": "execute_result"
    }
   ],
   "source": [
    "read_file = pd.read_csv(chuck_csv)\n",
    "read_file.head()"
   ]
  },
  {
   "cell_type": "code",
   "execution_count": 35,
   "metadata": {},
   "outputs": [
    {
     "data": {
      "image/png": "[encoded data removed]",
      "text/plain": [
       "<Figure size 432x288 with 1 Axes>"
      ]
     },
     "metadata": {
      "needs_background": "light"
     },
     "output_type": "display_data"
    },
    {
     "name": "stdout",
     "output_type": "stream",
     "text": [
      "['JOKE LENGTH', '167', '98', '92']\n",
      "['ID', '243', '204', '442']\n"
     ]
    }
   ],
   "source": [
    "x=[]\n",
    "\n",
    "y=[]\n",
    "\n",
    "with open(\"./Resources/chucknorris.csv\") as csvfile:\n",
    "    plots=  csv.reader(csvfile, delimiter=\",\")\n",
    "    for row in plots:\n",
    "        y.append(row[0])\n",
    "        x.append(row[2])\n",
    "plt.plot(x, y, label=\"Chuck Norris Info\")\n",
    "plt.xlabel(\"Joke ID's\")\n",
    "plt.ylabel(\"Joke Lengths\")\n",
    "plt.title(\"Chuck Norris Cool Plots\")\n",
    "plt.legend()\n",
    "plt.show()\n",
    "print(x)\n",
    "print(y)"
   ]
  },
  {
   "cell_type": "code",
   "execution_count": 50,
   "metadata": {},
   "outputs": [
    {
     "name": "stdout",
     "output_type": "stream",
     "text": [
      "[  0  40  80 120 160]\n"
     ]
    },
    {
     "data": {
      "text/plain": [
       "<matplotlib.collections.PathCollection at 0xbe91dc3c88>"
      ]
     },
     "execution_count": 50,
     "metadata": {},
     "output_type": "execute_result"
    },
    {
     "data": {
      "image/png": "[encoded data removed]",
      "text/plain": [
       "<Figure size 432x288 with 1 Axes>"
      ]
     },
     "metadata": {
      "needs_background": "light"
     },
     "output_type": "display_data"
    }
   ],
   "source": [
    "x_limit = 170\n",
    "x_axis=np.arange(0, x_limit, 40)\n",
    "print(x_axis)\n",
    "plt.scatter(x, y, marker=\"o\", facecolor=\"blue\", edgecolors=\"blue\", alpha =0.2, s=x_axis)\n",
    "\n"
   ]
  }
 ],
 "metadata": {
  "kernelspec": {
   "display_name": "Python 3",
   "language": "python",
   "name": "python3"
  },
  "language_info": {
   "codemirror_mode": {
    "name": "ipython",
    "version": 3
   },
   "file_extension": ".py",
   "mimetype": "text/x-python",
   "name": "python",
   "nbconvert_exporter": "python",
   "pygments_lexer": "ipython3",
   "version": "3.7.4"
  }
 },
 "nbformat": 4,
 "nbformat_minor": 2
}
